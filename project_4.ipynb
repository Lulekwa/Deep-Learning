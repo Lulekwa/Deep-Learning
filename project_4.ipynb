{
  "nbformat": 4,
  "nbformat_minor": 0,
  "metadata": {
    "colab": {
      "provenance": []
    },
    "kernelspec": {
      "name": "python3",
      "display_name": "Python 3"
    },
    "language_info": {
      "name": "python"
    }
  },
  "cells": [
    {
      "cell_type": "code",
      "execution_count": null,
      "metadata": {
        "id": "oC7X9QpV-df6"
      },
      "outputs": [],
      "source": [
        "import tensorflow as tf\n",
        "from tensorflow.keras.preprocessing.image import ImageDataGenerator\n",
        "from tensorflow.keras.models import Sequential\n",
        "from tensorflow.keras.layers import Conv2D, MaxPooling2D, Flatten, Dense, Dropout\n",
        "from tensorflow.keras.optimizers import Adam\n",
        "import matplotlib.pyplot as plt\n",
        "import zipfile\n",
        "import os\n",
        "from PIL import Image\n",
        "import hashlib"
      ]
    },
    {
      "cell_type": "code",
      "source": [
        "zip_file_path = '/content/data.zip'"
      ],
      "metadata": {
        "id": "QD-FLv59-tAi"
      },
      "execution_count": null,
      "outputs": []
    },
    {
      "cell_type": "code",
      "source": [
        "extracted_dir = '/content/'"
      ],
      "metadata": {
        "id": "CxTsQcS4_vc7"
      },
      "execution_count": null,
      "outputs": []
    },
    {
      "cell_type": "code",
      "source": [
        "if not os.path.exists(zip_file_path):\n",
        "    raise FileNotFoundError(f\"The zip file '{zip_file_path}' does not exist.\")"
      ],
      "metadata": {
        "id": "k2wjtika_17r"
      },
      "execution_count": null,
      "outputs": []
    },
    {
      "cell_type": "code",
      "source": [
        "#Setting up directories\n",
        "data_dir = '/content/Data/'\n",
        "\n",
        "#Extracting and loading the data\n",
        "with zipfile.ZipFile('/content/data.zip', 'r') as zip_ref:\n",
        "    zip_ref.extractall('/content/')"
      ],
      "metadata": {
        "id": "lzt4HE2T_9ur"
      },
      "execution_count": null,
      "outputs": []
    },
    {
      "cell_type": "code",
      "source": [
        "# Load and preprocess the dataset\n",
        "train_datagen = ImageDataGenerator(rescale=1./255)\n",
        "valid_datagen = ImageDataGenerator(rescale=1./255)\n",
        "test_datagen = ImageDataGenerator(rescale=1./255)\n",
        "\n",
        "train_generator = train_datagen.flow_from_directory(\n",
        "    'Data/train',\n",
        "    target_size=(150, 150),\n",
        "    batch_size=32,\n",
        "    class_mode='categorical'\n",
        ")\n",
        "\n",
        "valid_generator = valid_datagen.flow_from_directory(\n",
        "    'Data/valid',\n",
        "    target_size=(150, 150),\n",
        "    batch_size=32,\n",
        "    class_mode='categorical'\n",
        ")\n",
        "\n",
        "test_generator = test_datagen.flow_from_directory(\n",
        "    'Data/test',\n",
        "    target_size=(150, 150),\n",
        "    batch_size=32,\n",
        "    class_mode='categorical'\n",
        ")"
      ],
      "metadata": {
        "colab": {
          "base_uri": "https://localhost:8080/"
        },
        "id": "tCRt0KoMLENH",
        "outputId": "c1682546-d7e5-4b00-8d79-80aa08bf6f95"
      },
      "execution_count": null,
      "outputs": [
        {
          "output_type": "stream",
          "name": "stdout",
          "text": [
            "Found 613 images belonging to 4 classes.\n",
            "Found 72 images belonging to 4 classes.\n",
            "Found 315 images belonging to 4 classes.\n"
          ]
        }
      ]
    },
    {
      "cell_type": "code",
      "source": [
        "\n",
        "# Build the CNN model\n",
        "model = Sequential([\n",
        "    Conv2D(32, (3, 3), activation='relu', input_shape=(150, 150, 3)),\n",
        "    MaxPooling2D((2, 2)),\n",
        "    Conv2D(64, (3, 3), activation='relu'),\n",
        "    MaxPooling2D((2, 2)),\n",
        "    Conv2D(128, (3, 3), activation='relu'),\n",
        "    MaxPooling2D((2, 2)),\n",
        "    Flatten(),\n",
        "    Dense(512, activation='relu'),\n",
        "    Dropout(0.5),\n",
        "    Dense(4, activation='softmax')  # 4 classes (3 types of cancer + 1 normal)\n",
        "])"
      ],
      "metadata": {
        "id": "COCoawc2CmGt"
      },
      "execution_count": null,
      "outputs": []
    },
    {
      "cell_type": "code",
      "source": [
        "# Compile the model\n",
        "optimizer = Adam(learning_rate=0.001)\n",
        "model.compile(optimizer=optimizer, loss='categorical_crossentropy', metrics=['accuracy'])\n"
      ],
      "metadata": {
        "id": "E331L-zmCsp6"
      },
      "execution_count": null,
      "outputs": []
    },
    {
      "cell_type": "code",
      "source": [
        "# Train the model\n",
        "history = model.fit(\n",
        "    train_generator,\n",
        "    steps_per_epoch=train_generator.samples // train_generator.batch_size,\n",
        "    validation_data=valid_generator,\n",
        "    validation_steps=valid_generator.samples // valid_generator.batch_size,\n",
        "    epochs=10\n",
        ")"
      ],
      "metadata": {
        "colab": {
          "base_uri": "https://localhost:8080/"
        },
        "id": "9rcE39xoC70Z",
        "outputId": "e3b14332-87c6-4d6a-bc13-dd9ee2547bd8"
      },
      "execution_count": null,
      "outputs": [
        {
          "output_type": "stream",
          "name": "stdout",
          "text": [
            "Epoch 1/10\n",
            "19/19 [==============================] - 37s 2s/step - loss: 1.3349 - accuracy: 0.3907 - val_loss: 1.0011 - val_accuracy: 0.5469\n",
            "Epoch 2/10\n",
            "19/19 [==============================] - 51s 2s/step - loss: 0.8025 - accuracy: 0.6661 - val_loss: 0.7637 - val_accuracy: 0.6562\n",
            "Epoch 3/10\n",
            "19/19 [==============================] - 38s 2s/step - loss: 0.5612 - accuracy: 0.7952 - val_loss: 0.5732 - val_accuracy: 0.7656\n",
            "Epoch 4/10\n",
            "19/19 [==============================] - 38s 2s/step - loss: 0.3771 - accuracy: 0.8657 - val_loss: 0.5600 - val_accuracy: 0.8125\n",
            "Epoch 5/10\n",
            "19/19 [==============================] - 37s 2s/step - loss: 0.2671 - accuracy: 0.9036 - val_loss: 0.6466 - val_accuracy: 0.7500\n",
            "Epoch 6/10\n",
            "19/19 [==============================] - 37s 2s/step - loss: 0.1946 - accuracy: 0.9441 - val_loss: 0.4905 - val_accuracy: 0.8438\n",
            "Epoch 7/10\n",
            "19/19 [==============================] - 35s 2s/step - loss: 0.1643 - accuracy: 0.9466 - val_loss: 0.4562 - val_accuracy: 0.7969\n",
            "Epoch 8/10\n",
            "19/19 [==============================] - 34s 2s/step - loss: 0.1098 - accuracy: 0.9776 - val_loss: 0.5189 - val_accuracy: 0.7969\n",
            "Epoch 9/10\n",
            "19/19 [==============================] - 35s 2s/step - loss: 0.1392 - accuracy: 0.9656 - val_loss: 0.7748 - val_accuracy: 0.6875\n",
            "Epoch 10/10\n",
            "19/19 [==============================] - 38s 2s/step - loss: 0.1185 - accuracy: 0.9704 - val_loss: 0.5636 - val_accuracy: 0.8125\n"
          ]
        }
      ]
    },
    {
      "cell_type": "code",
      "source": [
        "# Plot training and validation accuracy\n",
        "plt.plot(history.history['accuracy'], label='Training Accuracy')\n",
        "plt.plot(history.history['val_accuracy'], label='Validation Accuracy')\n",
        "plt.xlabel('Epochs')\n",
        "plt.ylabel('Accuracy')\n",
        "plt.legend()\n",
        "plt.show()"
      ],
      "metadata": {
        "colab": {
          "base_uri": "https://localhost:8080/",
          "height": 451
        },
        "id": "P5xj_NizDHVw",
        "outputId": "a42da1b5-4dbc-4f5c-d560-b92de0574265"
      },
      "execution_count": null,
      "outputs": [
        {
          "output_type": "display_data",
          "data": {
            "text/plain": [
              "<Figure size 640x480 with 1 Axes>"
            ],
            "image/png": "[encoded data removed]"
          },
          "metadata": {}
        }
      ]
    },
    {
      "cell_type": "code",
      "source": [
        "# Evaluate the model on the test set\n",
        "test_loss, test_acc = model.evaluate(test_generator, steps=test_generator.samples // test_generator.batch_size)\n",
        "print(f'Test Accuracy: {test_acc:.2f}')"
      ],
      "metadata": {
        "colab": {
          "base_uri": "https://localhost:8080/"
        },
        "id": "IGHnIBTdEh_2",
        "outputId": "f29dd83e-f34c-4336-a53a-4d52a24dd07e"
      },
      "execution_count": null,
      "outputs": [
        {
          "output_type": "stream",
          "name": "stdout",
          "text": [
            "9/9 [==============================] - 5s 477ms/step - loss: 2.9588 - accuracy: 0.4792\n",
            "Test Accuracy: 0.48\n"
          ]
        }
      ]
    },
    {
      "cell_type": "code",
      "source": [
        "!pip install keras-tuner"
      ],
      "metadata": {
        "colab": {
          "base_uri": "https://localhost:8080/"
        },
        "id": "hNmSYr--FkJX",
        "outputId": "36bbbb7b-89db-4518-f7ee-c0048535671b"
      },
      "execution_count": null,
      "outputs": [
        {
          "output_type": "stream",
          "name": "stdout",
          "text": [
            "Collecting keras-tuner\n",
            "  Downloading keras_tuner-1.4.7-py3-none-any.whl (129 kB)\n",
            "\u001b[2K     \u001b[90m━━━━━━━━━━━━━━━━━━━━━━━━━━━━━━━━━━━━━━━━\u001b[0m \u001b[32m129.1/129.1 kB\u001b[0m \u001b[31m1.3 MB/s\u001b[0m eta \u001b[36m0:00:00\u001b[0m\n",
            "\u001b[?25hRequirement already satisfied: keras in /usr/local/lib/python3.10/dist-packages (from keras-tuner) (2.15.0)\n",
            "Requirement already satisfied: packaging in /usr/local/lib/python3.10/dist-packages (from keras-tuner) (24.0)\n",
            "Requirement already satisfied: requests in /usr/local/lib/python3.10/dist-packages (from keras-tuner) (2.31.0)\n",
            "Collecting kt-legacy (from keras-tuner)\n",
            "  Downloading kt_legacy-1.0.5-py3-none-any.whl (9.6 kB)\n",
            "Requirement already satisfied: charset-normalizer<4,>=2 in /usr/local/lib/python3.10/dist-packages (from requests->keras-tuner) (3.3.2)\n",
            "Requirement already satisfied: idna<4,>=2.5 in /usr/local/lib/python3.10/dist-packages (from requests->keras-tuner) (3.7)\n",
            "Requirement already satisfied: urllib3<3,>=1.21.1 in /usr/local/lib/python3.10/dist-packages (from requests->keras-tuner) (2.0.7)\n",
            "Requirement already satisfied: certifi>=2017.4.17 in /usr/local/lib/python3.10/dist-packages (from requests->keras-tuner) (2024.6.2)\n",
            "Installing collected packages: kt-legacy, keras-tuner\n",
            "Successfully installed keras-tuner-1.4.7 kt-legacy-1.0.5\n"
          ]
        }
      ]
    },
    {
      "cell_type": "code",
      "source": [
        "from kerastuner.tuners import RandomSearch\n",
        "\n",
        "def build_model(hp):\n",
        "    model = Sequential()\n",
        "    model.add(Conv2D(hp.Int('conv_1_filter', min_value=32, max_value=128, step=16),\n",
        "                     (3, 3), activation='relu', input_shape=(150, 150, 3)))\n",
        "    model.add(MaxPooling2D((2, 2)))\n",
        "    for i in range(hp.Int('num_conv_layers', 1, 3)):\n",
        "        model.add(Conv2D(hp.Int(f'conv_{i+2}_filter', min_value=32, max_value=128, step=16),\n",
        "                         (3, 3), activation='relu'))\n",
        "        model.add(MaxPooling2D((2, 2)))\n",
        "    model.add(Flatten())\n",
        "    model.add(Dense(hp.Int('dense_units', min_value=128, max_value=512, step=64), activation='relu'))\n",
        "    model.add(Dropout(0.5))\n",
        "    model.add(Dense(4, activation='softmax'))\n",
        "\n",
        "    model.compile(optimizer=Adam(hp.Choice('learning_rate', values=[1e-2, 1e-3, 1e-4])),\n",
        "                  loss='categorical_crossentropy',\n",
        "                  metrics=['accuracy'])\n",
        "\n",
        "    return model\n",
        "\n",
        "tuner = RandomSearch(build_model,\n",
        "                     objective='val_accuracy',\n",
        "                     max_trials=5,\n",
        "                     executions_per_trial=3,\n",
        "                     directory='hyperparam_tuning',\n",
        "                     project_name='cancer_classification')\n",
        "\n",
        "tuner.search(train_generator, epochs=10, validation_data=valid_generator)\n",
        "\n",
        "# Get the optimal hyperparameters\n",
        "best_hps = tuner.get_best_hyperparameters(num_trials=1)[0]\n",
        "\n",
        "print(f\"\"\"\n",
        "The hyperparameter search is complete.\n",
        "The optimal number of filters in the first convolutional layer is {best_hps.get('conv_1_filter')},\n",
        "the optimal learning rate is {best_hps.get('learning_rate')},\n",
        "and the optimal number of units in the dense layer is {best_hps.get('dense_units')}.\n",
        "\"\"\")"
      ],
      "metadata": {
        "id": "DT-ugRXKF2qE"
      },
      "execution_count": null,
      "outputs": []
    },
    {
      "cell_type": "code",
      "source": [],
      "metadata": {
        "id": "ICFxVY6cGAbi"
      },
      "execution_count": null,
      "outputs": []
    }
  ]
}